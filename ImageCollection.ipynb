{
 "cells": [
  {
   "cell_type": "code",
   "execution_count": 1,
   "metadata": {
    "collapsed": true,
    "pycharm": {
     "name": "#%%\n"
    }
   },
   "outputs": [],
   "source": [
    "import cv2\n",
    "import uuid\n",
    "import os\n",
    "import time"
   ]
  },
  {
   "cell_type": "code",
   "execution_count": 2,
   "outputs": [],
   "source": [
    "labels = ['Tomato', 'Potato', 'Apple']\n",
    "number_imgs = 10"
   ],
   "metadata": {
    "collapsed": false,
    "pycharm": {
     "name": "#%%\n"
    }
   }
  },
  {
   "cell_type": "markdown",
   "source": [
    "# Setting Up Folders"
   ],
   "metadata": {
    "collapsed": false,
    "pycharm": {
     "name": "#%% md\n"
    }
   }
  },
  {
   "cell_type": "code",
   "execution_count": 4,
   "outputs": [],
   "source": [
    "IMAGES_PATH = os.path.join('Tensorflow', 'workspace', 'images', 'CollectedImages')"
   ],
   "metadata": {
    "collapsed": false,
    "pycharm": {
     "name": "#%%\n"
    }
   }
  },
  {
   "cell_type": "code",
   "execution_count": 5,
   "outputs": [],
   "source": [
    "if not os.path.exists(IMAGES_PATH):\n",
    "    if os.name == 'posix':\n",
    "        !mkdir -p {IMAGES_PATH}\n",
    "    if os.name == 'nt':\n",
    "         !mkdir {IMAGES_PATH}\n",
    "for label in labels:\n",
    "    path = os.path.join(IMAGES_PATH, label)\n",
    "    if not os.path.exists(path):\n",
    "        !mkdir {path}"
   ],
   "metadata": {
    "collapsed": false,
    "pycharm": {
     "name": "#%%\n"
    }
   }
  },
  {
   "cell_type": "code",
   "execution_count": 6,
   "outputs": [],
   "source": [
    "LABELIMG_PATH = os.path.join('Tensorflow', 'labelimg')"
   ],
   "metadata": {
    "collapsed": false,
    "pycharm": {
     "name": "#%%\n"
    }
   }
  },
  {
   "cell_type": "code",
   "execution_count": 7,
   "outputs": [
    {
     "name": "stderr",
     "output_type": "stream",
     "text": [
      "Cloning into 'Tensorflow\\labelimg'...\n"
     ]
    }
   ],
   "source": [
    "if not os.path.exists(LABELIMG_PATH):\n",
    "    !mkdir {LABELIMG_PATH}\n",
    "    !git clone https://github.com/tzutalin/labelImg {LABELIMG_PATH}"
   ],
   "metadata": {
    "collapsed": false,
    "pycharm": {
     "name": "#%%\n"
    }
   }
  },
  {
   "cell_type": "code",
   "execution_count": 9,
   "outputs": [],
   "source": [
    "if os.name == 'posix':\n",
    "    !make qt5py3\n",
    "if os.name =='nt':\n",
    "    !cd {LABELIMG_PATH} && pyrcc5 -o libs/resources.py resources.qrc"
   ],
   "metadata": {
    "collapsed": false,
    "pycharm": {
     "name": "#%%\n"
    }
   }
  },
  {
   "cell_type": "code",
   "execution_count": 13,
   "outputs": [
    {
     "name": "stdout",
     "output_type": "stream",
     "text": [
      "Image:E:\\PyCharmProjects\\SortingMachineAlgo\\Tensorflow\\workspace\\images\\CollectedImages\\Tomato\\Tomato.a5c1ccb4-af55-11ed-8663-dca632d1e09e.jpg -> Annotation:E:/PyCharmProjects/SortingMachineAlgo/Tensorflow/workspace/images/CollectedImages/Tomato\\Tomato.a5c1ccb4-af55-11ed-8663-dca632d1e09e.xml\n",
      "Image:E:\\PyCharmProjects\\SortingMachineAlgo\\Tensorflow\\workspace\\images\\CollectedImages\\Tomato\\Tomato.a6fae958-af55-11ed-8663-dca632d1e09e.jpg -> Annotation:E:/PyCharmProjects/SortingMachineAlgo/Tensorflow/workspace/images/CollectedImages/Tomato\\Tomato.a6fae958-af55-11ed-8663-dca632d1e09e.xml\n",
      "Image:E:\\PyCharmProjects\\SortingMachineAlgo\\Tensorflow\\workspace\\images\\CollectedImages\\Tomato\\Tomato.a48ae182-af55-11ed-8663-dca632d1e09e.jpg -> Annotation:E:/PyCharmProjects/SortingMachineAlgo/Tensorflow/workspace/images/CollectedImages/Tomato\\Tomato.a48ae182-af55-11ed-8663-dca632d1e09e.xml\n",
      "Image:E:\\PyCharmProjects\\SortingMachineAlgo\\Tensorflow\\workspace\\images\\CollectedImages\\Tomato\\Tomato.a8310c8a-af55-11ed-8663-dca632d1e09e.jpg -> Annotation:E:/PyCharmProjects/SortingMachineAlgo/Tensorflow/workspace/images/CollectedImages/Tomato\\Tomato.a8310c8a-af55-11ed-8663-dca632d1e09e.xml\n",
      "Image:E:\\PyCharmProjects\\SortingMachineAlgo\\Tensorflow\\workspace\\images\\CollectedImages\\Tomato\\Tomato.a9670e9c-af55-11ed-8663-dca632d1e09e.jpg -> Annotation:E:/PyCharmProjects/SortingMachineAlgo/Tensorflow/workspace/images/CollectedImages/Tomato\\Tomato.a9670e9c-af55-11ed-8663-dca632d1e09e.xml\n",
      "Image:E:\\PyCharmProjects\\SortingMachineAlgo\\Tensorflow\\workspace\\images\\CollectedImages\\Tomato\\Tomato.a21805e2-af55-11ed-8663-dca632d1e09e.jpg -> Annotation:E:/PyCharmProjects/SortingMachineAlgo/Tensorflow/workspace/images/CollectedImages/Tomato\\Tomato.a21805e2-af55-11ed-8663-dca632d1e09e.xml\n",
      "Image:E:\\PyCharmProjects\\SortingMachineAlgo\\Tensorflow\\workspace\\images\\CollectedImages\\Tomato\\Tomato.a35194dc-af55-11ed-8663-dca632d1e09e.jpg -> Annotation:E:/PyCharmProjects/SortingMachineAlgo/Tensorflow/workspace/images/CollectedImages/Tomato\\Tomato.a35194dc-af55-11ed-8663-dca632d1e09e.xml\n",
      "Image:E:\\PyCharmProjects\\SortingMachineAlgo\\Tensorflow\\workspace\\images\\CollectedImages\\Tomato\\Tomato.aa9fe91e-af55-11ed-8663-dca632d1e09e.jpg -> Annotation:E:/PyCharmProjects/SortingMachineAlgo/Tensorflow/workspace/images/CollectedImages/Tomato\\Tomato.aa9fe91e-af55-11ed-8663-dca632d1e09e.xml\n",
      "Image:E:\\PyCharmProjects\\SortingMachineAlgo\\Tensorflow\\workspace\\images\\CollectedImages\\Tomato\\Tomato.abd5515c-af55-11ed-8663-dca632d1e09e.jpg -> Annotation:E:/PyCharmProjects/SortingMachineAlgo/Tensorflow/workspace/images/CollectedImages/Tomato\\Tomato.abd5515c-af55-11ed-8663-dca632d1e09e.xml\n",
      "Image:E:\\PyCharmProjects\\SortingMachineAlgo\\Tensorflow\\workspace\\images\\CollectedImages\\Tomato\\Tomato.ad0bbb9c-af55-11ed-8663-dca632d1e09e.jpg -> Annotation:E:/PyCharmProjects/SortingMachineAlgo/Tensorflow/workspace/images/CollectedImages/Tomato\\Tomato.ad0bbb9c-af55-11ed-8663-dca632d1e09e.xml\n",
      "Image:E:\\PyCharmProjects\\SortingMachineAlgo\\Tensorflow\\workspace\\images\\CollectedImages\\Tomato\\Tomato.e3dad89c-ac49-11ed-813e-dca632d1e09e.jpg -> Annotation:E:/PyCharmProjects/SortingMachineAlgo/Tensorflow/workspace/images/CollectedImages/Tomato\\Tomato.e3dad89c-ac49-11ed-813e-dca632d1e09e.xml\n"
     ]
    }
   ],
   "source": [
    "!cd {LABELIMG_PATH} && python labelImg.py"
   ],
   "metadata": {
    "collapsed": false,
    "pycharm": {
     "name": "#%%\n"
    }
   }
  },
  {
   "cell_type": "code",
   "execution_count": 15,
   "outputs": [],
   "source": [],
   "metadata": {
    "collapsed": false,
    "pycharm": {
     "name": "#%%\n"
    }
   }
  },
  {
   "cell_type": "code",
   "execution_count": null,
   "outputs": [],
   "source": [],
   "metadata": {
    "collapsed": false,
    "pycharm": {
     "name": "#%%\n"
    }
   }
  }
 ],
 "metadata": {
  "kernelspec": {
   "display_name": "Python 3",
   "language": "python",
   "name": "python3"
  },
  "language_info": {
   "codemirror_mode": {
    "name": "ipython",
    "version": 2
   },
   "file_extension": ".py",
   "mimetype": "text/x-python",
   "name": "python",
   "nbconvert_exporter": "python",
   "pygments_lexer": "ipython2",
   "version": "2.7.6"
  }
 },
 "nbformat": 4,
 "nbformat_minor": 0
}
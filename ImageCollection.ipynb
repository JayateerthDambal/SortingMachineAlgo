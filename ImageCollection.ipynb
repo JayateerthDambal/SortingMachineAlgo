{
 "cells": [
  {
   "cell_type": "code",
   "execution_count": 1,
   "metadata": {
    "collapsed": true,
    "pycharm": {
     "name": "#%%\n"
    }
   },
   "outputs": [],
   "source": [
    "import cv2\n",
    "import uuid\n",
    "import os\n",
    "import time"
   ]
  },
  {
   "cell_type": "code",
   "execution_count": 2,
   "outputs": [],
   "source": [
    "labels = ['Tomato', 'Potato', 'Apple']\n",
    "number_imgs = 10"
   ],
   "metadata": {
    "collapsed": false,
    "pycharm": {
     "name": "#%%\n"
    }
   }
  },
  {
   "cell_type": "markdown",
   "source": [
    "# Setting Up Folders"
   ],
   "metadata": {
    "collapsed": false,
    "pycharm": {
     "name": "#%% md\n"
    }
   }
  },
  {
   "cell_type": "code",
   "execution_count": 6,
   "outputs": [],
   "source": [
    "IMAGES_PATH = os.path.join('Tensorflow', 'workspace', 'images', 'CollectedImages')"
   ],
   "metadata": {
    "collapsed": false,
    "pycharm": {
     "name": "#%%\n"
    }
   }
  },
  {
   "cell_type": "code",
   "execution_count": 7,
   "outputs": [],
   "source": [
    "if not os.path.exists(IMAGES_PATH):\n",
    "    if os.name == 'posix':\n",
    "        !mkdir -p {IMAGES_PATH}\n",
    "    if os.name == 'nt':\n",
    "         !mkdir {IMAGES_PATH}\n",
    "for label in labels:\n",
    "    path = os.path.join(IMAGES_PATH, label)\n",
    "    if not os.path.exists(path):\n",
    "        !mkdir {path}"
   ],
   "metadata": {
    "collapsed": false,
    "pycharm": {
     "name": "#%%\n"
    }
   }
  },
  {
   "cell_type": "code",
   "execution_count": 8,
   "outputs": [],
   "source": [
    "LABELIMG_PATH = os.path.join('Tensorflow', 'labelimg')"
   ],
   "metadata": {
    "collapsed": false,
    "pycharm": {
     "name": "#%%\n"
    }
   }
  },
  {
   "cell_type": "code",
   "execution_count": 9,
   "outputs": [],
   "source": [
    "if not os.path.exists(LABELIMG_PATH):\n",
    "    !mkdir {LABELIMG_PATH}\n",
    "    !git clone https://github.com/tzutalin/labelImg {LABELIMG_PATH}"
   ],
   "metadata": {
    "collapsed": false,
    "pycharm": {
     "name": "#%%\n"
    }
   }
  },
  {
   "cell_type": "code",
   "execution_count": 10,
   "outputs": [],
   "source": [
    "if os.name == 'posix':\n",
    "    !make qt5py3\n",
    "if os.name =='nt':\n",
    "    !cd {LABELIMG_PATH} && pyrcc5 -o libs/resources.py resources.qrc"
   ],
   "metadata": {
    "collapsed": false,
    "pycharm": {
     "name": "#%%\n"
    }
   }
  },
  {
   "cell_type": "code",
   "execution_count": 12,
   "outputs": [
    {
     "name": "stdout",
     "output_type": "stream",
     "text": [
      "Image:E:\\PyCharmProjects\\SortingMachineAlgo\\Tensorflow\\workspace\\images\\CollectedImages\\Potato\\Potato.5b17206a-f2ee-11ed-ae87-dca632d1e09e.jpg -> Annotation:E:/PyCharmProjects/SortingMachineAlgo/Tensorflow/workspace/images/CollectedImages/Potato\\Potato.5b17206a-f2ee-11ed-ae87-dca632d1e09e.xml\n",
      "Image:E:\\PyCharmProjects\\SortingMachineAlgo\\Tensorflow\\workspace\\images\\CollectedImages\\Potato\\Potato.53c73b24-f2ee-11ed-ae87-dca632d1e09e.jpg -> Annotation:E:/PyCharmProjects/SortingMachineAlgo/Tensorflow/workspace/images/CollectedImages/Potato\\Potato.53c73b24-f2ee-11ed-ae87-dca632d1e09e.xml\n",
      "Image:E:\\PyCharmProjects\\SortingMachineAlgo\\Tensorflow\\workspace\\images\\CollectedImages\\Potato\\Potato.58a317ee-f2ee-11ed-ae87-dca632d1e09e.jpg -> Annotation:E:/PyCharmProjects/SortingMachineAlgo/Tensorflow/workspace/images/CollectedImages/Potato\\Potato.58a317ee-f2ee-11ed-ae87-dca632d1e09e.xml\n",
      "Image:E:\\PyCharmProjects\\SortingMachineAlgo\\Tensorflow\\workspace\\images\\CollectedImages\\Potato\\Potato.59dca210-f2ee-11ed-ae87-dca632d1e09e.jpg -> Annotation:E:/PyCharmProjects/SortingMachineAlgo/Tensorflow/workspace/images/CollectedImages/Potato\\Potato.59dca210-f2ee-11ed-ae87-dca632d1e09e.xml\n",
      "Image:E:\\PyCharmProjects\\SortingMachineAlgo\\Tensorflow\\workspace\\images\\CollectedImages\\Potato\\Potato.501cf66c-f2ee-11ed-ae87-dca632d1e09e.jpg -> Annotation:E:/PyCharmProjects/SortingMachineAlgo/Tensorflow/workspace/images/CollectedImages/Potato\\Potato.501cf66c-f2ee-11ed-ae87-dca632d1e09e.xml\n",
      "Image:E:\\PyCharmProjects\\SortingMachineAlgo\\Tensorflow\\workspace\\images\\CollectedImages\\Potato\\Potato.515a3472-f2ee-11ed-ae87-dca632d1e09e.jpg -> Annotation:E:/PyCharmProjects/SortingMachineAlgo/Tensorflow/workspace/images/CollectedImages/Potato\\Potato.515a3472-f2ee-11ed-ae87-dca632d1e09e.xml\n",
      "Image:E:\\PyCharmProjects\\SortingMachineAlgo\\Tensorflow\\workspace\\images\\CollectedImages\\Potato\\Potato.576d1f50-f2ee-11ed-ae87-dca632d1e09e.jpg -> Annotation:E:/PyCharmProjects/SortingMachineAlgo/Tensorflow/workspace/images/CollectedImages/Potato\\Potato.576d1f50-f2ee-11ed-ae87-dca632d1e09e.xml\n",
      "Image:E:\\PyCharmProjects\\SortingMachineAlgo\\Tensorflow\\workspace\\images\\CollectedImages\\Potato\\Potato.5636e0f8-f2ee-11ed-ae87-dca632d1e09e.jpg -> Annotation:E:/PyCharmProjects/SortingMachineAlgo/Tensorflow/workspace/images/CollectedImages/Potato\\Potato.5636e0f8-f2ee-11ed-ae87-dca632d1e09e.xml\n",
      "Image:E:\\PyCharmProjects\\SortingMachineAlgo\\Tensorflow\\workspace\\images\\CollectedImages\\Potato\\Potato.550024a6-f2ee-11ed-ae87-dca632d1e09e.jpg -> Annotation:E:/PyCharmProjects/SortingMachineAlgo/Tensorflow/workspace/images/CollectedImages/Potato\\Potato.550024a6-f2ee-11ed-ae87-dca632d1e09e.xml\n",
      "Image:E:\\PyCharmProjects\\SortingMachineAlgo\\Tensorflow\\workspace\\images\\CollectedImages\\Potato\\Potato.52919736-f2ee-11ed-ae87-dca632d1e09e.jpg -> Annotation:E:/PyCharmProjects/SortingMachineAlgo/Tensorflow/workspace/images/CollectedImages/Potato\\Potato.52919736-f2ee-11ed-ae87-dca632d1e09e.xml\n"
     ]
    }
   ],
   "source": [
    "!cd {LABELIMG_PATH} && python labelImg.py"
   ],
   "metadata": {
    "collapsed": false,
    "pycharm": {
     "name": "#%%\n"
    }
   }
  },
  {
   "cell_type": "code",
   "execution_count": 15,
   "outputs": [],
   "source": [],
   "metadata": {
    "collapsed": false,
    "pycharm": {
     "name": "#%%\n"
    }
   }
  },
  {
   "cell_type": "code",
   "execution_count": null,
   "outputs": [],
   "source": [],
   "metadata": {
    "collapsed": false,
    "pycharm": {
     "name": "#%%\n"
    }
   }
  }
 ],
 "metadata": {
  "kernelspec": {
   "display_name": "Python 3",
   "language": "python",
   "name": "python3"
  },
  "language_info": {
   "codemirror_mode": {
    "name": "ipython",
    "version": 2
   },
   "file_extension": ".py",
   "mimetype": "text/x-python",
   "name": "python",
   "nbconvert_exporter": "python",
   "pygments_lexer": "ipython2",
   "version": "2.7.6"
  }
 },
 "nbformat": 4,
 "nbformat_minor": 0
}